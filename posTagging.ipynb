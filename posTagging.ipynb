{
 "cells": [
  {
   "cell_type": "code",
   "execution_count": 1,
   "id": "f3ba7fde",
   "metadata": {},
   "outputs": [],
   "source": [
    "paragraph = \"\"\"A paragraph is a distinct unit of writing, typically composed of multiple sentences, that focuses on a single idea or topic. It serves to organize and structure written work, making it easier for readers to follow the author's train of thought. Paragraphs usually begin with an indentation on the first line and are separated from other paragraphs by a blank line or a similar visual cue. \"\"\""
   ]
  },
  {
   "cell_type": "code",
   "execution_count": 9,
   "id": "a4ddc6cc",
   "metadata": {},
   "outputs": [
    {
     "name": "stderr",
     "output_type": "stream",
     "text": [
      "[nltk_data] Downloading package stopwords to\n",
      "[nltk_data]     C:\\Users\\Hp\\AppData\\Roaming\\nltk_data...\n",
      "[nltk_data]   Package stopwords is already up-to-date!\n",
      "[nltk_data] Downloading package averaged_perceptron_tagger_eng to\n",
      "[nltk_data]     C:\\Users\\Hp\\AppData\\Roaming\\nltk_data...\n",
      "[nltk_data]   Unzipping taggers\\averaged_perceptron_tagger_eng.zip.\n"
     ]
    },
    {
     "data": {
      "text/plain": [
       "True"
      ]
     },
     "execution_count": 9,
     "metadata": {},
     "output_type": "execute_result"
    }
   ],
   "source": [
    "from nltk.corpus import stopwords\n",
    "nltk.download('stopwords')\n",
    "nltk.download('averaged_perceptron_tagger_eng')"
   ]
  },
  {
   "cell_type": "code",
   "execution_count": 2,
   "id": "e9925315",
   "metadata": {},
   "outputs": [],
   "source": [
    "import nltk\n",
    "sentences = nltk.sent_tokenize(paragraph)"
   ]
  },
  {
   "cell_type": "code",
   "execution_count": 3,
   "id": "7a42bcbe",
   "metadata": {},
   "outputs": [
    {
     "data": {
      "text/plain": [
       "['A paragraph is a distinct unit of writing, typically composed of multiple sentences, that focuses on a single idea or topic.',\n",
       " \"It serves to organize and structure written work, making it easier for readers to follow the author's train of thought.\",\n",
       " 'Paragraphs usually begin with an indentation on the first line and are separated from other paragraphs by a blank line or a similar visual cue.']"
      ]
     },
     "execution_count": 3,
     "metadata": {},
     "output_type": "execute_result"
    }
   ],
   "source": [
    "sentences"
   ]
  },
  {
   "cell_type": "code",
   "execution_count": 10,
   "id": "8a1ed4fe",
   "metadata": {},
   "outputs": [
    {
     "name": "stdout",
     "output_type": "stream",
     "text": [
      "[('A', 'DT'), ('paragraph', 'NN'), ('distinct', 'JJ'), ('unit', 'NN'), ('writing', 'NN'), (',', ','), ('typically', 'RB'), ('composed', 'JJ'), ('multiple', 'JJ'), ('sentences', 'NNS'), (',', ','), ('focuses', 'NNS'), ('single', 'JJ'), ('idea', 'NN'), ('topic', 'NN'), ('.', '.')]\n",
      "[('It', 'PRP'), ('serves', 'VBZ'), ('organize', 'JJ'), ('structure', 'NN'), ('written', 'VBN'), ('work', 'NN'), (',', ','), ('making', 'VBG'), ('easier', 'JJR'), ('readers', 'NNS'), ('follow', 'VBP'), ('author', 'NN'), (\"'s\", 'POS'), ('train', 'NN'), ('thought', 'NN'), ('.', '.')]\n",
      "[('Paragraphs', 'NNP'), ('usually', 'RB'), ('begin', 'VBP'), ('indentation', 'NN'), ('first', 'RB'), ('line', 'NN'), ('separated', 'VBN'), ('paragraphs', 'JJ'), ('blank', 'JJ'), ('line', 'NN'), ('similar', 'JJ'), ('visual', 'JJ'), ('cue', 'NN'), ('.', '.')]\n"
     ]
    }
   ],
   "source": [
    "for i in range(len(sentences)):\n",
    "    words = nltk.word_tokenize(sentences[i])\n",
    "    words = [word for word in words if word not in set(stopwords.words('english'))]\n",
    "    sentences[i] = ' '.join(words)\n",
    "    pos_tag = nltk.pos_tag(words)\n",
    "    print(pos_tag)"
   ]
  },
  {
   "cell_type": "code",
   "execution_count": null,
   "id": "2bdd193c",
   "metadata": {},
   "outputs": [],
   "source": []
  }
 ],
 "metadata": {
  "kernelspec": {
   "display_name": ".venv",
   "language": "python",
   "name": "python3"
  },
  "language_info": {
   "codemirror_mode": {
    "name": "ipython",
    "version": 3
   },
   "file_extension": ".py",
   "mimetype": "text/x-python",
   "name": "python",
   "nbconvert_exporter": "python",
   "pygments_lexer": "ipython3",
   "version": "3.9.7"
  }
 },
 "nbformat": 4,
 "nbformat_minor": 5
}
